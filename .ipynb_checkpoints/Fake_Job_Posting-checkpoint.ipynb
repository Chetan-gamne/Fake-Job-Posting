{
 "cells": [
  {
   "cell_type": "code",
   "execution_count": 2,
   "id": "424c94f3",
   "metadata": {},
   "outputs": [
    {
     "ename": "ModuleNotFoundError",
     "evalue": "No module named 'wordcloud'",
     "output_type": "error",
     "traceback": [
      "\u001b[1;31m----------------------------------------------------------------------\u001b[0m",
      "\u001b[1;31mModuleNotFoundError\u001b[0m                  Traceback (most recent call last)",
      "Input \u001b[1;32mIn [2]\u001b[0m, in \u001b[0;36m<module>\u001b[1;34m\u001b[0m\n\u001b[0;32m      5\u001b[0m \u001b[38;5;28;01mimport\u001b[39;00m \u001b[38;5;21;01mspacy\u001b[39;00m\n\u001b[0;32m      6\u001b[0m \u001b[38;5;28;01mimport\u001b[39;00m \u001b[38;5;21;01mseaborn\u001b[39;00m \u001b[38;5;28;01mas\u001b[39;00m \u001b[38;5;21;01msns\u001b[39;00m\n\u001b[1;32m----> 7\u001b[0m \u001b[38;5;28;01mfrom\u001b[39;00m \u001b[38;5;21;01mwordcloud\u001b[39;00m \u001b[38;5;28;01mimport\u001b[39;00m WordCloud\n\u001b[0;32m      8\u001b[0m \u001b[38;5;28;01mfrom\u001b[39;00m \u001b[38;5;21;01mspacy\u001b[39;00m\u001b[38;5;21;01m.\u001b[39;00m\u001b[38;5;21;01mlang\u001b[39;00m\u001b[38;5;21;01m.\u001b[39;00m\u001b[38;5;21;01men\u001b[39;00m\u001b[38;5;21;01m.\u001b[39;00m\u001b[38;5;21;01mstop_words\u001b[39;00m \u001b[38;5;28;01mimport\u001b[39;00m STOP_WORDS\n\u001b[0;32m      9\u001b[0m \u001b[38;5;28;01mfrom\u001b[39;00m \u001b[38;5;21;01mspacy\u001b[39;00m\u001b[38;5;21;01m.\u001b[39;00m\u001b[38;5;21;01mlang\u001b[39;00m\u001b[38;5;21;01m.\u001b[39;00m\u001b[38;5;21;01men\u001b[39;00m \u001b[38;5;28;01mimport\u001b[39;00m English\n",
      "\u001b[1;31mModuleNotFoundError\u001b[0m: No module named 'wordcloud'"
     ]
    }
   ],
   "source": [
    "import string\n",
    "import pandas as pd\n",
    "import numpy as np\n",
    "import matplotlib.pyplot as plt\n",
    "import spacy\n",
    "import seaborn as sns\n",
    "from wordcloud import WordCloud\n",
    "from spacy.lang.en.stop_words import STOP_WORDS\n",
    "from spacy.lang.en import English\n",
    "from sklearn.model_selection import train_test_split\n",
    "from sklearn.pipeline import Pipeline\n",
    "from sklearn.base import TransformerMixin\n",
    "from sklearn.metrics import accuracy_score,plot_confusion_matrix,classification_report,confusion_matrix\n",
    "from sklearn.feature_extraction.text import TfidfVectorizer,CountVectorizer"
   ]
  },
  {
   "cell_type": "code",
   "execution_count": null,
   "id": "c6d314f1",
   "metadata": {},
   "outputs": [],
   "source": [
    "df = pd.read_csv('./fake_job_data.csv')\n",
    "df"
   ]
  },
  {
   "cell_type": "code",
   "execution_count": null,
   "id": "a8101fe5",
   "metadata": {},
   "outputs": [],
   "source": [
    "df.head()\n"
   ]
  },
  {
   "cell_type": "code",
   "execution_count": null,
   "id": "0d0f61bc",
   "metadata": {},
   "outputs": [],
   "source": [
    "df.tail()"
   ]
  },
  {
   "cell_type": "code",
   "execution_count": null,
   "id": "d32f9022",
   "metadata": {},
   "outputs": [],
   "source": [
    "df.shape"
   ]
  },
  {
   "cell_type": "code",
   "execution_count": null,
   "id": "51128c48",
   "metadata": {},
   "outputs": [],
   "source": [
    "df.describe()"
   ]
  },
  {
   "cell_type": "code",
   "execution_count": null,
   "id": "b7d68ea0",
   "metadata": {},
   "outputs": [],
   "source": [
    "df.isnull().sum() #using to check null values in dataset."
   ]
  },
  {
   "cell_type": "code",
   "execution_count": null,
   "id": "7b15a0b2",
   "metadata": {},
   "outputs": [],
   "source": [
    "df = df.drop([\"job_id\",\"telecommuting\",\"has_company_logo\",\"has_questions\",\"salary_range\",\"employment_type\"],axis=1)"
   ]
  },
  {
   "cell_type": "code",
   "execution_count": null,
   "id": "399a3d6d",
   "metadata": {},
   "outputs": [],
   "source": [
    "df.head()\n"
   ]
  },
  {
   "cell_type": "code",
   "execution_count": null,
   "id": "8ad23ea5",
   "metadata": {},
   "outputs": [],
   "source": [
    "df.fillna(\"\",inplace=True)"
   ]
  },
  {
   "cell_type": "code",
   "execution_count": null,
   "id": "0ef3ae67",
   "metadata": {},
   "outputs": [],
   "source": [
    "df.isnull().sum()\n"
   ]
  },
  {
   "cell_type": "code",
   "execution_count": null,
   "id": "5745663a",
   "metadata": {},
   "outputs": [],
   "source": [
    "plt.figure(figsize=(10,5))\n",
    "sns.countplot(y='fraudulent',data=df)\n",
    "plt.show()"
   ]
  },
  {
   "cell_type": "code",
   "execution_count": null,
   "id": "892d2dc7",
   "metadata": {},
   "outputs": [],
   "source": [
    "df.groupby('fraudulent')['fraudulent'].count()"
   ]
  },
  {
   "cell_type": "code",
   "execution_count": null,
   "id": "49cde2f2",
   "metadata": {},
   "outputs": [],
   "source": [
    "exp = dict(df.required_experience.value_counts())\n",
    "exp\n",
    "del exp['']\n",
    "exp"
   ]
  },
  {
   "cell_type": "code",
   "execution_count": null,
   "id": "3b8b1a53",
   "metadata": {},
   "outputs": [],
   "source": [
    "plt.figure(figsize=(10,5))\n",
    "plt.title(\"Jobs by Experience\",size=25)\n",
    "plt.bar(exp.keys(),exp.values())"
   ]
  },
  {
   "cell_type": "code",
   "execution_count": null,
   "id": "8c12bcb1",
   "metadata": {},
   "outputs": [],
   "source": [
    "df"
   ]
  },
  {
   "cell_type": "code",
   "execution_count": null,
   "id": "ab8df1d0",
   "metadata": {},
   "outputs": [],
   "source": [
    "def split(location):\n",
    "    loc = location.split(',')\n",
    "    return loc[0];\n",
    "df['country'] = df.location.apply(split)"
   ]
  },
  {
   "cell_type": "code",
   "execution_count": null,
   "id": "c7e9e7aa",
   "metadata": {},
   "outputs": [],
   "source": [
    "df.head()"
   ]
  },
  {
   "cell_type": "code",
   "execution_count": null,
   "id": "c5509551",
   "metadata": {},
   "outputs": [],
   "source": [
    "country = dict(df.country.value_counts()[:10])\n",
    "del country[''] #Deleting Blank value countries from dictionaries\n",
    "country"
   ]
  },
  {
   "cell_type": "code",
   "execution_count": null,
   "id": "ea3a8905",
   "metadata": {},
   "outputs": [],
   "source": [
    "plt.bar(country.keys(),country.values())\n",
    "plt.title(\"Country-wise Job Postings\")"
   ]
  },
  {
   "cell_type": "code",
   "execution_count": null,
   "id": "041cca78",
   "metadata": {},
   "outputs": [],
   "source": [
    "edu = dict(df.required_education.value_counts()[:6])\n",
    "del edu[''] #Deleting Blank value edu from dictionaries\n",
    "edu"
   ]
  },
  {
   "cell_type": "code",
   "execution_count": null,
   "id": "23bdd23f",
   "metadata": {},
   "outputs": [],
   "source": [
    "plt.figure(figsize=(15,7))\n",
    "plt.title('Jobs posting by education',size=25)\n",
    "plt.bar(edu.keys(),edu.values(),color=\"lightblue\")\n",
    "plt.xlabel(\"Education\",size=15)\n",
    "plt.ylabel('Jobs',size=15)"
   ]
  },
  {
   "cell_type": "code",
   "execution_count": null,
   "id": "1edf32b4",
   "metadata": {},
   "outputs": [],
   "source": [
    "print(df[df.fraudulent==0].title.value_counts()[:20]) #Genuine jobs postings comes usually with this titles"
   ]
  },
  {
   "cell_type": "code",
   "execution_count": null,
   "id": "4c4cfdc4",
   "metadata": {},
   "outputs": [],
   "source": [
    "print(df[df.fraudulent==1].title.value_counts()[:20]) #Fraudulent jobs postings comes usually with this titles"
   ]
  },
  {
   "cell_type": "code",
   "execution_count": null,
   "id": "419b6366",
   "metadata": {},
   "outputs": [],
   "source": [
    "df['text'] = df['title']+' '+df['company_profile']+' '+df['description']+' '+df['requirements']+' '+df['benefits']"
   ]
  },
  {
   "cell_type": "code",
   "execution_count": null,
   "id": "44d48450",
   "metadata": {
    "scrolled": false
   },
   "outputs": [],
   "source": [
    "\n",
    "df2 = df.copy()"
   ]
  },
  {
   "cell_type": "code",
   "execution_count": null,
   "id": "a0bdbd94",
   "metadata": {},
   "outputs": [],
   "source": [
    "del df['title']\n",
    "del df['location']\n",
    "del df['department']\n",
    "del df[\"company_profile\"]\n",
    "del df[\"description\"]\n",
    "del df[\"requirements\"]\n",
    "del df[\"benefits\"]\n",
    "del df[\"required_experience\"]\n",
    "del df[\"required_education\"]\n",
    "del df[\"industry\"]\n",
    "del df[\"function\"]\n",
    "del df[\"country\"]"
   ]
  },
  {
   "cell_type": "code",
   "execution_count": null,
   "id": "108cf605",
   "metadata": {},
   "outputs": [],
   "source": [
    "df.head()"
   ]
  },
  {
   "cell_type": "code",
   "execution_count": null,
   "id": "baee963a",
   "metadata": {},
   "outputs": [],
   "source": [
    "df.tail()"
   ]
  },
  {
   "cell_type": "code",
   "execution_count": null,
   "id": "45ed96d6",
   "metadata": {},
   "outputs": [],
   "source": [
    "df.shape"
   ]
  },
  {
   "cell_type": "code",
   "execution_count": null,
   "id": "5a1a25d5",
   "metadata": {},
   "outputs": [],
   "source": [
    "fraudjobs_text = df[df.fraudulent == 1].text # 1 for fraud jobs\n",
    "realjobs_text = df[df.fraudulent == 0].text # 0 for real jobs"
   ]
  },
  {
   "cell_type": "code",
   "execution_count": null,
   "id": "ab90133a",
   "metadata": {},
   "outputs": [],
   "source": [
    "STOPWORDS = spacy.lang.en.stop_words.STOP_WORDS\n",
    "plt.figure(figsize=(20,15))\n",
    "wc = WordCloud(min_font_size = 3,max_words = 2000, width = 1600, height = 800, stopwords=STOPWORDS).generate(str(\"\".join(fraudjobs_text)))\n",
    "plt.imshow(wc,interpolation = \"bilinear\")  #fraud jobs keywords "
   ]
  },
  {
   "cell_type": "code",
   "execution_count": null,
   "id": "bfa1cbe3",
   "metadata": {},
   "outputs": [],
   "source": [
    "STOPWORDS = spacy.lang.en.stop_words.STOP_WORDS\n",
    "plt.figure(figsize=(20,15))\n",
    "wc = WordCloud(min_font_size = 3,max_words = 2000, width = 1600, height = 800, stopwords=STOPWORDS).generate(str(\"\".join(realjobs_text)))\n",
    "plt.imshow(wc,interpolation = \"bilinear\")  #real job keywords"
   ]
  },
  {
   "cell_type": "code",
   "execution_count": null,
   "id": "1b353fa4",
   "metadata": {},
   "outputs": [],
   "source": [
    "!pip install spacy && python -m spacy download en"
   ]
  },
  {
   "cell_type": "code",
   "execution_count": null,
   "id": "f76d7243",
   "metadata": {},
   "outputs": [],
   "source": [
    "punctuations = string.punctuation\n",
    "\n",
    "nlp  = spacy.load(\"en_core_web_sm\")\n",
    "stop_words = spacy.lang.en.stop_words.STOP_WORDS\n",
    "\n",
    "parser  = English()\n",
    "\n",
    "def spacy_tokenizer(sentence):\n",
    "    mytoken = parser(sentence)\n",
    "    mytokens = [word.lemma.lower().strip() if word.lemma_ != \"-PRON-\" else word.lower_ for word in mytokens]\n",
    "    mytokens = [word for word in mytokens if word not in stop_words and word not in punctuations]\n",
    "    return mytokens\n",
    "\n",
    "class predictors(TransformerMixin):\n",
    "    def transform(self,X,**transform_params):\n",
    "        return [clean_text(text) for text in X]\n",
    "    \n",
    "    def fit(self, X, y=None, **fit_params):\n",
    "        return self\n",
    "    def get_params(self,deep = True):\n",
    "        return {}\n",
    "    \n",
    "def clean_text(text):\n",
    "    return text.strip().lower()\n"
   ]
  },
  {
   "cell_type": "code",
   "execution_count": null,
   "id": "a3ec3129",
   "metadata": {},
   "outputs": [],
   "source": [
    "df['text'] = df['text'].apply(clean_text)"
   ]
  },
  {
   "cell_type": "code",
   "execution_count": null,
   "id": "f08ab1d1",
   "metadata": {},
   "outputs": [],
   "source": [
    "cv = TfidfVectorizer(max_features=100)\n",
    "x = cv.fit_transform(df['text'])\n",
    "df1 = pd.DataFrame(x.toarray(),columns = cv.get_feature_names())\n",
    "df.drop([\"text\"],axis=1,inplace=True)\n",
    "main_df = pd.concat([df1,df],axis=1)"
   ]
  },
  {
   "cell_type": "code",
   "execution_count": null,
   "id": "8b0e4f08",
   "metadata": {},
   "outputs": [],
   "source": [
    "main_df\n"
   ]
  },
  {
   "cell_type": "code",
   "execution_count": null,
   "id": "4af16f27",
   "metadata": {
    "scrolled": true
   },
   "outputs": [],
   "source": [
    "Y = main_df.iloc[:,-1]\n",
    "X = main_df.iloc[:,:-1]\n",
    "\n",
    "x_train,x_test,y_train,y_test = train_test_split(X,Y,test_size = 0.2)\n",
    "print(x_train.shape)\n",
    "print(x_test.shape)\n",
    "print(y_train.shape)\n",
    "print(y_test.shape)"
   ]
  },
  {
   "cell_type": "code",
   "execution_count": null,
   "id": "73d1a234",
   "metadata": {},
   "outputs": [],
   "source": [
    "from sklearn.linear_model import LogisticRegression\n",
    "from sklearn.tree import DecisionTreeClassifier\n",
    "from sklearn.ensemble import RandomForestClassifier\n",
    "from sklearn.neighbors import KNeighborsClassifier  \n",
    "from sklearn import svm"
   ]
  },
  {
   "cell_type": "code",
   "execution_count": null,
   "id": "0bc92e51",
   "metadata": {},
   "outputs": [],
   "source": [
    "lg_model = LogisticRegression(random_state=0).fit(x_train,y_train)\n",
    "dtc_model = DecisionTreeClassifier(random_state=0).fit(x_train,y_train)\n",
    "rfc_model = RandomForestClassifier(n_jobs=3,oob_score=True,n_estimators=100,criterion=\"entropy\").fit(x_train,y_train)\n",
    "svm_model = svm.SVC().fit(x_train,y_train)\n",
    "knn_model = KNeighborsClassifier(n_neighbors=3).fit(x_train,y_train)"
   ]
  },
  {
   "cell_type": "code",
   "execution_count": null,
   "id": "1647fd76",
   "metadata": {},
   "outputs": [],
   "source": [
    "lg_pred  = lg_model.predict(x_test)\n",
    "dtc_pred = dtc_model.predict(x_test)\n",
    "rfc_pred = rfc_model.predict(x_test)\n",
    "svm_pred = svm_model.predict(x_test)\n",
    "knn_pred = knn_model.predict(x_test)"
   ]
  },
  {
   "cell_type": "code",
   "execution_count": null,
   "id": "1cf645a0",
   "metadata": {},
   "outputs": [],
   "source": [
    "target_names = [\"Real-0\",\"Fake-1\"]\n",
    "lg_score = accuracy_score(y_test,lg_pred)\n",
    "print(\"Logistic Regression Accuracy: \" , lg_score*100)\n",
    "print(\"Confusion Matrix: \" ,confusion_matrix(y_test,lg_pred)) # For Logistic Regression Confusion Matrix\n",
    "print(classification_report(y_test, lg_pred,target_names = target_names))"
   ]
  },
  {
   "cell_type": "code",
   "execution_count": null,
   "id": "7343f3d3",
   "metadata": {},
   "outputs": [],
   "source": [
    "target_names = [\"Real-0\",\"Fake-1\"]\n",
    "dtc_score = accuracy_score(y_test,dtc_pred)\n",
    "print(\"Decision Tree Accuracy: \" , dtc_score*100)\n",
    "print(\"Confusion Matrix: \" ,confusion_matrix(y_test,dtc_pred)) # For Decision Tree Confusion Matrix\n",
    "print(classification_report(y_test, dtc_pred,target_names = target_names))"
   ]
  },
  {
   "cell_type": "code",
   "execution_count": null,
   "id": "41b07545",
   "metadata": {},
   "outputs": [],
   "source": [
    "target_names = [\"Real-0\",\"Fake-1\"]\n",
    "rfc_score = accuracy_score(y_test,rfc_pred)\n",
    "print(\"Random Forest Classifier Accuracy: \" , rfc_score*100)\n",
    "print(\"Confusion Matrix: \" ,confusion_matrix(y_test,rfc_pred)) # For Random Forest Classifier Confusion Matrix\n",
    "print(classification_report(y_test, rfc_pred,target_names = target_names))"
   ]
  },
  {
   "cell_type": "code",
   "execution_count": null,
   "id": "55d23f70",
   "metadata": {},
   "outputs": [],
   "source": [
    "target_names = [\"Real-0\",\"Fake-1\"]\n",
    "svm_score = accuracy_score(y_test,svm_pred)\n",
    "print(\"Support Vector Machines (SVM) Accuracy: \" , svm_score*100)\n",
    "print(\"Confusion Matrix: \" ,confusion_matrix(y_test,svm_pred)) # For Support Vector Machines Confusion Matrix\n",
    "print(classification_report(y_test, svm_pred,target_names = target_names))"
   ]
  },
  {
   "cell_type": "code",
   "execution_count": null,
   "id": "e30bddcb",
   "metadata": {},
   "outputs": [],
   "source": [
    "target_names = [\"Real-0\",\"Fake-1\"]\n",
    "knn_score = accuracy_score(y_test,knn_pred)\n",
    "print(\"K-Nearest Neighbor (KNN) Accuracy: \" , knn_score*100)\n",
    "print(\"Confusion Matrix: \" ,confusion_matrix(y_test,knn_pred)) # For K-Nearest Neighbor (KNN) Confusion Matrix\n",
    "print(classification_report(y_test, knn_pred,target_names = target_names))"
   ]
  },
  {
   "cell_type": "code",
   "execution_count": null,
   "id": "9ada9fa9",
   "metadata": {},
   "outputs": [],
   "source": [
    "print(\"Logistic Regression Accracy: \" , lg_score*100)\n",
    "print(\"Decision Tree Accracy: \" , dtc_score*100)\n",
    "print(\"Random Forest Accracy: \" , rfc_score*100)\n",
    "print(\"Support Vector Machines (SVM) Accracy: \" , svm_score*100)\n",
    "print(\"KNN Accracy: \" , knn_score*100) "
   ]
  },
  {
   "cell_type": "markdown",
   "id": "e40d32d0",
   "metadata": {},
   "source": [
    "### KNN Algorithm gives us Higher Prediction which is almost 97.42% \n",
    "\n",
    "#### So, model train by KNN Algorithm is the best model for this dataset."
   ]
  },
  {
   "cell_type": "markdown",
   "id": "ccba3426",
   "metadata": {},
   "source": []
  }
 ],
 "metadata": {
  "kernelspec": {
   "display_name": "Python 3 (ipykernel)",
   "language": "python",
   "name": "python3"
  },
  "language_info": {
   "codemirror_mode": {
    "name": "ipython",
    "version": 3
   },
   "file_extension": ".py",
   "mimetype": "text/x-python",
   "name": "python",
   "nbconvert_exporter": "python",
   "pygments_lexer": "ipython3",
   "version": "3.10.1"
  }
 },
 "nbformat": 4,
 "nbformat_minor": 5
}
